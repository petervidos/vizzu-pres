{
 "cells": [
  {
   "cell_type": "markdown",
   "metadata": {},
   "source": [
    "# ipyvizzu Example"
   ]
  },
  {
   "cell_type": "code",
   "execution_count": null,
   "metadata": {},
   "outputs": [],
   "source": [
    "!pip install ipyvizzu"
   ]
  },
  {
   "cell_type": "code",
   "execution_count": 1,
   "metadata": {
    "scrolled": true
   },
   "outputs": [
    {
     "data": {
      "text/html": [
       "<div>\n",
       "<style scoped>\n",
       "    .dataframe tbody tr th:only-of-type {\n",
       "        vertical-align: middle;\n",
       "    }\n",
       "\n",
       "    .dataframe tbody tr th {\n",
       "        vertical-align: top;\n",
       "    }\n",
       "\n",
       "    .dataframe thead th {\n",
       "        text-align: right;\n",
       "    }\n",
       "</style>\n",
       "<table border=\"1\" class=\"dataframe\">\n",
       "  <thead>\n",
       "    <tr style=\"text-align: right;\">\n",
       "      <th></th>\n",
       "      <th>Group name</th>\n",
       "      <th>Group</th>\n",
       "      <th>Answer</th>\n",
       "      <th>Vote[%]</th>\n",
       "      <th>Vote count</th>\n",
       "      <th>GroupVote count</th>\n",
       "      <th>Total[%]</th>\n",
       "    </tr>\n",
       "  </thead>\n",
       "  <tbody>\n",
       "    <tr>\n",
       "      <th>0</th>\n",
       "      <td>Data Analytics, Data Science, Business Analyti...</td>\n",
       "      <td>Group 5</td>\n",
       "      <td>2 or more per month</td>\n",
       "      <td>39</td>\n",
       "      <td>27</td>\n",
       "      <td>70</td>\n",
       "      <td>3.8</td>\n",
       "    </tr>\n",
       "    <tr>\n",
       "      <th>1</th>\n",
       "      <td>Python Developers Community (moderated)</td>\n",
       "      <td>Group 4</td>\n",
       "      <td>2 or more per month</td>\n",
       "      <td>44</td>\n",
       "      <td>191</td>\n",
       "      <td>433</td>\n",
       "      <td>27.0</td>\n",
       "    </tr>\n",
       "    <tr>\n",
       "      <th>2</th>\n",
       "      <td>Data Scientist, Data Analyst and Data Engineer</td>\n",
       "      <td>Group 3</td>\n",
       "      <td>2 or more per month</td>\n",
       "      <td>47</td>\n",
       "      <td>66</td>\n",
       "      <td>141</td>\n",
       "      <td>9.3</td>\n",
       "    </tr>\n",
       "    <tr>\n",
       "      <th>3</th>\n",
       "      <td>Artificial Intelligence, Digital Transformatio...</td>\n",
       "      <td>Group 2</td>\n",
       "      <td>2 or more per month</td>\n",
       "      <td>55</td>\n",
       "      <td>6</td>\n",
       "      <td>11</td>\n",
       "      <td>0.8</td>\n",
       "    </tr>\n",
       "    <tr>\n",
       "      <th>4</th>\n",
       "      <td>AI &amp; ML  - Analytics , Data Science...</td>\n",
       "      <td>Group 1</td>\n",
       "      <td>2 or more per month</td>\n",
       "      <td>56</td>\n",
       "      <td>29</td>\n",
       "      <td>52</td>\n",
       "      <td>4.1</td>\n",
       "    </tr>\n",
       "    <tr>\n",
       "      <th>5</th>\n",
       "      <td>Data Analytics, Data Science, Business Analyti...</td>\n",
       "      <td>Group 5</td>\n",
       "      <td>1 per month</td>\n",
       "      <td>31</td>\n",
       "      <td>22</td>\n",
       "      <td>70</td>\n",
       "      <td>3.1</td>\n",
       "    </tr>\n",
       "    <tr>\n",
       "      <th>6</th>\n",
       "      <td>Python Developers Community (moderated)</td>\n",
       "      <td>Group 4</td>\n",
       "      <td>1 per month</td>\n",
       "      <td>24</td>\n",
       "      <td>104</td>\n",
       "      <td>433</td>\n",
       "      <td>14.7</td>\n",
       "    </tr>\n",
       "    <tr>\n",
       "      <th>7</th>\n",
       "      <td>Data Scientist, Data Analyst and Data Engineer</td>\n",
       "      <td>Group 3</td>\n",
       "      <td>1 per month</td>\n",
       "      <td>20</td>\n",
       "      <td>28</td>\n",
       "      <td>141</td>\n",
       "      <td>4.0</td>\n",
       "    </tr>\n",
       "    <tr>\n",
       "      <th>8</th>\n",
       "      <td>Artificial Intelligence, Digital Transformatio...</td>\n",
       "      <td>Group 2</td>\n",
       "      <td>1 per month</td>\n",
       "      <td>18</td>\n",
       "      <td>2</td>\n",
       "      <td>11</td>\n",
       "      <td>0.3</td>\n",
       "    </tr>\n",
       "    <tr>\n",
       "      <th>9</th>\n",
       "      <td>AI &amp; ML  - Analytics , Data Science...</td>\n",
       "      <td>Group 1</td>\n",
       "      <td>1 per month</td>\n",
       "      <td>12</td>\n",
       "      <td>6</td>\n",
       "      <td>52</td>\n",
       "      <td>0.8</td>\n",
       "    </tr>\n",
       "    <tr>\n",
       "      <th>10</th>\n",
       "      <td>Data Analytics, Data Science, Business Analyti...</td>\n",
       "      <td>Group 5</td>\n",
       "      <td>1-2 per quarter</td>\n",
       "      <td>14</td>\n",
       "      <td>10</td>\n",
       "      <td>70</td>\n",
       "      <td>1.4</td>\n",
       "    </tr>\n",
       "    <tr>\n",
       "      <th>11</th>\n",
       "      <td>Python Developers Community (moderated)</td>\n",
       "      <td>Group 4</td>\n",
       "      <td>1-2 per quarter</td>\n",
       "      <td>13</td>\n",
       "      <td>56</td>\n",
       "      <td>433</td>\n",
       "      <td>7.9</td>\n",
       "    </tr>\n",
       "    <tr>\n",
       "      <th>12</th>\n",
       "      <td>Data Scientist, Data Analyst and Data Engineer</td>\n",
       "      <td>Group 3</td>\n",
       "      <td>1-2 per quarter</td>\n",
       "      <td>16</td>\n",
       "      <td>23</td>\n",
       "      <td>141</td>\n",
       "      <td>3.3</td>\n",
       "    </tr>\n",
       "    <tr>\n",
       "      <th>13</th>\n",
       "      <td>Artificial Intelligence, Digital Transformatio...</td>\n",
       "      <td>Group 2</td>\n",
       "      <td>1-2 per quarter</td>\n",
       "      <td>18</td>\n",
       "      <td>2</td>\n",
       "      <td>11</td>\n",
       "      <td>0.3</td>\n",
       "    </tr>\n",
       "    <tr>\n",
       "      <th>14</th>\n",
       "      <td>AI &amp; ML  - Analytics , Data Science...</td>\n",
       "      <td>Group 1</td>\n",
       "      <td>1-2 per quarter</td>\n",
       "      <td>17</td>\n",
       "      <td>9</td>\n",
       "      <td>52</td>\n",
       "      <td>1.3</td>\n",
       "    </tr>\n",
       "    <tr>\n",
       "      <th>15</th>\n",
       "      <td>Data Analytics, Data Science, Business Analyti...</td>\n",
       "      <td>Group 5</td>\n",
       "      <td>Never</td>\n",
       "      <td>16</td>\n",
       "      <td>11</td>\n",
       "      <td>70</td>\n",
       "      <td>1.6</td>\n",
       "    </tr>\n",
       "    <tr>\n",
       "      <th>16</th>\n",
       "      <td>Python Developers Community (moderated)</td>\n",
       "      <td>Group 4</td>\n",
       "      <td>Never</td>\n",
       "      <td>19</td>\n",
       "      <td>82</td>\n",
       "      <td>433</td>\n",
       "      <td>11.6</td>\n",
       "    </tr>\n",
       "    <tr>\n",
       "      <th>17</th>\n",
       "      <td>Data Scientist, Data Analyst and Data Engineer</td>\n",
       "      <td>Group 3</td>\n",
       "      <td>Never</td>\n",
       "      <td>17</td>\n",
       "      <td>24</td>\n",
       "      <td>141</td>\n",
       "      <td>3.4</td>\n",
       "    </tr>\n",
       "    <tr>\n",
       "      <th>18</th>\n",
       "      <td>Artificial Intelligence, Digital Transformatio...</td>\n",
       "      <td>Group 2</td>\n",
       "      <td>Never</td>\n",
       "      <td>9</td>\n",
       "      <td>1</td>\n",
       "      <td>11</td>\n",
       "      <td>0.1</td>\n",
       "    </tr>\n",
       "    <tr>\n",
       "      <th>19</th>\n",
       "      <td>AI &amp; ML  - Analytics , Data Science...</td>\n",
       "      <td>Group 1</td>\n",
       "      <td>Never</td>\n",
       "      <td>15</td>\n",
       "      <td>8</td>\n",
       "      <td>52</td>\n",
       "      <td>1.1</td>\n",
       "    </tr>\n",
       "  </tbody>\n",
       "</table>\n",
       "</div>"
      ],
      "text/plain": [
       "                                           Group name    Group  \\\n",
       "0   Data Analytics, Data Science, Business Analyti...  Group 5   \n",
       "1             Python Developers Community (moderated)  Group 4   \n",
       "2      Data Scientist, Data Analyst and Data Engineer  Group 3   \n",
       "3   Artificial Intelligence, Digital Transformatio...  Group 2   \n",
       "4              AI & ML  - Analytics , Data Science...  Group 1   \n",
       "5   Data Analytics, Data Science, Business Analyti...  Group 5   \n",
       "6             Python Developers Community (moderated)  Group 4   \n",
       "7      Data Scientist, Data Analyst and Data Engineer  Group 3   \n",
       "8   Artificial Intelligence, Digital Transformatio...  Group 2   \n",
       "9              AI & ML  - Analytics , Data Science...  Group 1   \n",
       "10  Data Analytics, Data Science, Business Analyti...  Group 5   \n",
       "11            Python Developers Community (moderated)  Group 4   \n",
       "12     Data Scientist, Data Analyst and Data Engineer  Group 3   \n",
       "13  Artificial Intelligence, Digital Transformatio...  Group 2   \n",
       "14             AI & ML  - Analytics , Data Science...  Group 1   \n",
       "15  Data Analytics, Data Science, Business Analyti...  Group 5   \n",
       "16            Python Developers Community (moderated)  Group 4   \n",
       "17     Data Scientist, Data Analyst and Data Engineer  Group 3   \n",
       "18  Artificial Intelligence, Digital Transformatio...  Group 2   \n",
       "19             AI & ML  - Analytics , Data Science...  Group 1   \n",
       "\n",
       "                 Answer  Vote[%]  Vote count  GroupVote count  Total[%]  \n",
       "0   2 or more per month       39          27               70       3.8  \n",
       "1   2 or more per month       44         191              433      27.0  \n",
       "2   2 or more per month       47          66              141       9.3  \n",
       "3   2 or more per month       55           6               11       0.8  \n",
       "4   2 or more per month       56          29               52       4.1  \n",
       "5           1 per month       31          22               70       3.1  \n",
       "6           1 per month       24         104              433      14.7  \n",
       "7           1 per month       20          28              141       4.0  \n",
       "8           1 per month       18           2               11       0.3  \n",
       "9           1 per month       12           6               52       0.8  \n",
       "10      1-2 per quarter       14          10               70       1.4  \n",
       "11      1-2 per quarter       13          56              433       7.9  \n",
       "12      1-2 per quarter       16          23              141       3.3  \n",
       "13      1-2 per quarter       18           2               11       0.3  \n",
       "14      1-2 per quarter       17           9               52       1.3  \n",
       "15                Never       16          11               70       1.6  \n",
       "16                Never       19          82              433      11.6  \n",
       "17                Never       17          24              141       3.4  \n",
       "18                Never        9           1               11       0.1  \n",
       "19                Never       15           8               52       1.1  "
      ]
     },
     "metadata": {},
     "output_type": "display_data"
    }
   ],
   "source": [
    "import pandas as pd\n",
    "from ipyvizzu import Chart, Data, Config, Style\n",
    "\n",
    "data_frame = pd.read_csv(\"./LinkedIn_Poll.csv\")\n",
    "data = Data()\n",
    "data.add_data_frame(data_frame)\n",
    "\n",
    "display(data_frame)"
   ]
  },
  {
   "cell_type": "code",
   "execution_count": 2,
   "metadata": {},
   "outputs": [
    {
     "data": {
      "application/javascript": [
       "if (!window.IpyVizzu) {\n",
       "    class IpyVizzu \n",
       "    {\n",
       "        constructor()\n",
       "        {\n",
       "            IpyVizzu.inhibitScroll = false;\n",
       "            IpyVizzu.nbconvert = false;\n",
       "            document.addEventListener('wheel', (evt) => { IpyVizzu.inhibitScroll = true }, true);\n",
       "            document.addEventListener('keydown', (evt) => { IpyVizzu.inhibitScroll = true }, true);\n",
       "            document.addEventListener('touchstart', (evt) => { IpyVizzu.inhibitScroll = true }, true);\n",
       "\n",
       "            this.elements = {};\n",
       "            this.charts = {};\n",
       "            \n",
       "            this.snapshots = {};\n",
       "            this.displays = {};\n",
       "\n",
       "            this.events = {};\n",
       "            this.loaded = {};\n",
       "            this.libs = {};\n",
       "        }\n",
       "\n",
       "        static clearInhibitScroll(element)\n",
       "        {\n",
       "            if (IpyVizzu.nbconvert) IpyVizzu._hide(element);\n",
       "            IpyVizzu.inhibitScroll = false;\n",
       "        }\n",
       "\n",
       "        createChart(element, chartId, vizzulib, divWidth, divHeight) {\n",
       "            this.elements[chartId] = document.createElement(\"div\");\n",
       "            this.elements[chartId].style.cssText = `width: ${divWidth}; height: ${divHeight};`;\n",
       "            this.loaded[chartId] = import(vizzulib);\n",
       "            this.charts[chartId] = this.loaded[chartId].then(Vizzu => {\n",
       "                this.libs[chartId] = Vizzu.default;\n",
       "                return new Vizzu.default(this.elements[chartId]).initializing\n",
       "            });\n",
       "            this._moveHere(chartId, element);\n",
       "        }\n",
       "\n",
       "        animate(element, chartId, displayTarget, scrollEnabled, getChartTarget, chartAnimOpts)\n",
       "        {\n",
       "            if (IpyVizzu.nbconvert) IpyVizzu._hide(element);\n",
       "            if (displayTarget === 'end') this._moveHere(chartId, element);\n",
       "            this.charts[chartId] = this.charts[chartId].then(chart => {\n",
       "                if (displayTarget === 'actual') this._moveHere(chartId, element);\n",
       "                this._scroll(chartId, scrollEnabled);\n",
       "                let chartTarget = getChartTarget(this.libs[chartId]);\n",
       "                if (typeof chartTarget === 'string') chartTarget = this.snapshots[chartTarget];\n",
       "                return chart.animate(chartTarget, chartAnimOpts);\n",
       "            });\n",
       "        }\n",
       "\n",
       "        store(element, chartId, id)\n",
       "        {\n",
       "            if (IpyVizzu.nbconvert) IpyVizzu._hide(element);\n",
       "            this.charts[chartId] = this.charts[chartId].then(chart => {\n",
       "                this.snapshots[id] = chart.store();\n",
       "                return chart;\n",
       "            });\n",
       "        }\n",
       "\n",
       "        feature(element, chartId, name, enabled)\n",
       "        {\n",
       "            if (IpyVizzu.nbconvert) IpyVizzu._hide(element);\n",
       "            this.charts[chartId] = this.charts[chartId].then(chart => {\n",
       "                chart.feature(name, enabled);\n",
       "                return chart;\n",
       "            });\n",
       "        }\n",
       "\n",
       "        setEvent(element, chartId, id, event, handler)\n",
       "        {\n",
       "            if (IpyVizzu.nbconvert) IpyVizzu._hide(element);\n",
       "            this.charts[chartId] = this.charts[chartId].then(chart => {\n",
       "                this.events[id] = handler;\n",
       "                chart.on(event, this.events[id]);\n",
       "                return chart;\n",
       "            });\n",
       "        }\n",
       "\n",
       "        clearEvent(element, chartId, id, event)\n",
       "        {\n",
       "            if (IpyVizzu.nbconvert) IpyVizzu._hide(element);\n",
       "            this.charts[chartId] = this.charts[chartId].then(chart => {\n",
       "                chart.off(event, this.events[id]);\n",
       "                return chart;\n",
       "            });\n",
       "        }\n",
       "\n",
       "        log(element, chartId, chartProperty)\n",
       "        {\n",
       "            if (IpyVizzu.nbconvert) IpyVizzu._hide(element);\n",
       "            this.charts[chartId] = this.charts[chartId].then(chart => {\n",
       "                console.log(chart[chartProperty])\n",
       "                return chart;\n",
       "            });\n",
       "        }\n",
       "\n",
       "        _moveHere(chartId, element)\n",
       "        {\n",
       "            if (IpyVizzu.nbconvert) IpyVizzu._display(this.elements[chartId], element);\n",
       "            element.append(this.elements[chartId]);\n",
       "        }\n",
       "\n",
       "        _scroll(chartId, enabled)\n",
       "        {\n",
       "            if (!IpyVizzu.inhibitScroll && enabled) {\n",
       "                this.elements[chartId].scrollIntoView({ behavior: \"auto\", block: \"center\" });\n",
       "            }\n",
       "        }\n",
       "\n",
       "        static _hide(element) {\n",
       "            document.getElementById(element.selector.substring(1)).parentNode.style.display = 'none';\n",
       "        }\n",
       "\n",
       "        static _display(prevElement, element) {\n",
       "            if (prevElement.parentNode) {\n",
       "                prevElement.parentNode.style.display = \"none\";\n",
       "            }\n",
       "            document.getElementById(element.selector.substring(1)).parentNode.style.display = 'flex';\n",
       "            document.getElementById(element.selector.substring(1)).parentNode.style.margin = 'auto';\n",
       "        }\n",
       "    }\n",
       "\n",
       "    window.IpyVizzu = IpyVizzu;\n",
       "    window.ipyvizzu = new window.IpyVizzu();\n",
       "}"
      ]
     },
     "metadata": {},
     "output_type": "display_data"
    },
    {
     "data": {
      "application/javascript": [
       "window.ipyvizzu.createChart(element, '02399e7', 'https://cdn.jsdelivr.net/npm/vizzu@~0.5.0/dist/vizzu.min.js', '100%', '360px');"
      ]
     },
     "metadata": {},
     "output_type": "display_data"
    },
    {
     "data": {
      "application/javascript": [
       "window.ipyvizzu.animate(element, '02399e7', 'actual', false, lib => { return {\"data\": {\"series\": [{\"name\": \"Group name\", \"type\": \"dimension\", \"values\": [\"Data Analytics, Data Science, Business Analytics...\", \"Python Developers Community (moderated)\", \"Data Scientist, Data Analyst and Data Engineer\", \"Artificial Intelligence, Digital Transformation...\", \"AI & ML  - Analytics , Data Science...\", \"Data Analytics, Data Science, Business Analytics...\", \"Python Developers Community (moderated)\", \"Data Scientist, Data Analyst and Data Engineer\", \"Artificial Intelligence, Digital Transformation...\", \"AI & ML  - Analytics , Data Science...\", \"Data Analytics, Data Science, Business Analytics...\", \"Python Developers Community (moderated)\", \"Data Scientist, Data Analyst and Data Engineer\", \"Artificial Intelligence, Digital Transformation...\", \"AI & ML  - Analytics , Data Science...\", \"Data Analytics, Data Science, Business Analytics...\", \"Python Developers Community (moderated)\", \"Data Scientist, Data Analyst and Data Engineer\", \"Artificial Intelligence, Digital Transformation...\", \"AI & ML  - Analytics , Data Science...\"]}, {\"name\": \"Group\", \"type\": \"dimension\", \"values\": [\"Group 5\", \"Group 4\", \"Group 3\", \"Group 2\", \"Group 1\", \"Group 5\", \"Group 4\", \"Group 3\", \"Group 2\", \"Group 1\", \"Group 5\", \"Group 4\", \"Group 3\", \"Group 2\", \"Group 1\", \"Group 5\", \"Group 4\", \"Group 3\", \"Group 2\", \"Group 1\"]}, {\"name\": \"Answer\", \"type\": \"dimension\", \"values\": [\"2 or more per month\", \"2 or more per month\", \"2 or more per month\", \"2 or more per month\", \"2 or more per month\", \"1 per month\", \"1 per month\", \"1 per month\", \"1 per month\", \"1 per month\", \"1-2 per quarter\", \"1-2 per quarter\", \"1-2 per quarter\", \"1-2 per quarter\", \"1-2 per quarter\", \"Never\", \"Never\", \"Never\", \"Never\", \"Never\"]}, {\"name\": \"Vote[%]\", \"type\": \"measure\", \"values\": [39.0, 44.0, 47.0, 55.0, 56.0, 31.0, 24.0, 20.0, 18.0, 12.0, 14.0, 13.0, 16.0, 18.0, 17.0, 16.0, 19.0, 17.0, 9.0, 15.0]}, {\"name\": \"Vote count\", \"type\": \"measure\", \"values\": [27.0, 191.0, 66.0, 6.0, 29.0, 22.0, 104.0, 28.0, 2.0, 6.0, 10.0, 56.0, 23.0, 2.0, 9.0, 11.0, 82.0, 24.0, 1.0, 8.0]}, {\"name\": \"GroupVote count\", \"type\": \"measure\", \"values\": [70.0, 433.0, 141.0, 11.0, 52.0, 70.0, 433.0, 141.0, 11.0, 52.0, 70.0, 433.0, 141.0, 11.0, 52.0, 70.0, 433.0, 141.0, 11.0, 52.0]}, {\"name\": \"Total[%]\", \"type\": \"measure\", \"values\": [3.8, 27.0, 9.3, 0.8, 4.1, 3.1, 14.7, 4.0, 0.3, 0.8, 1.4, 7.9, 3.3, 0.3, 1.3, 1.6, 11.6, 3.4, 0.1, 1.1]}]}} }, undefined);"
      ]
     },
     "metadata": {},
     "output_type": "display_data"
    },
    {
     "data": {
      "application/javascript": [
       "window.ipyvizzu.animate(element, '02399e7', 'actual', false, lib => { return {\"data\": {\"filter\": record => { return (record.Group == 'Group 1') }}, \"config\": {\"x\": [\"Vote[%]\", \"Answer\"], \"y\": \"Group\", \"color\": \"Answer\", \"label\": \"Vote[%]\", \"title\": \"How often do you present your findings?\"}, \"style\": {\"legend\": {\"paddingRight\": \"-1em\"}}} }, undefined);"
      ]
     },
     "metadata": {},
     "output_type": "display_data"
    }
   ],
   "source": [
    "chart = Chart(width=\"100%\", height=\"360px\")\n",
    "\n",
    "chart.animate(data)\n",
    "\n",
    "chart.animate(\n",
    "    Data.filter(\n",
    "        \"record.Group == 'Group 1'\"\n",
    "    ),\n",
    "   Config({\n",
    "            \"x\": [\"Vote[%]\",\"Answer\"], \n",
    "            \"y\": \"Group\",\n",
    "            \"color\": \"Answer\",\n",
    "            \"label\": \"Vote[%]\",\n",
    "            \"title\": \"How often do you present your findings?\"\n",
    "        }),\n",
    "    Style({\n",
    "        \"legend\" : {\"paddingRight\": \"-1em\"},\n",
    "    })\n",
    ")"
   ]
  },
  {
   "cell_type": "code",
   "execution_count": 3,
   "metadata": {},
   "outputs": [
    {
     "data": {
      "application/javascript": [
       "if (window.IpyVizzu) { window.IpyVizzu.clearInhibitScroll(element); }"
      ]
     },
     "metadata": {},
     "output_type": "display_data"
    },
    {
     "data": {
      "application/javascript": [
       "window.ipyvizzu.animate(element, '02399e7', 'actual', false, lib => { return {\"data\": {\"filter\": null}} }, undefined);"
      ]
     },
     "metadata": {},
     "output_type": "display_data"
    }
   ],
   "source": [
    "chart.animate(\n",
    "    Data.filter(None),\n",
    ")"
   ]
  },
  {
   "cell_type": "code",
   "execution_count": 4,
   "metadata": {},
   "outputs": [
    {
     "data": {
      "application/javascript": [
       "if (window.IpyVizzu) { window.IpyVizzu.clearInhibitScroll(element); }"
      ]
     },
     "metadata": {},
     "output_type": "display_data"
    },
    {
     "data": {
      "application/javascript": [
       "window.ipyvizzu.animate(element, '02399e7', 'actual', false, lib => { return {\"config\": {\"split\": true, \"title\": \"2 or more is the most popular answer in every group\"}} }, undefined);"
      ]
     },
     "metadata": {},
     "output_type": "display_data"
    }
   ],
   "source": [
    "chart.animate(\n",
    "    Config({\n",
    "        \"split\": True, \n",
    "        \"title\": \"2 or more is the most popular answer in every group\"\n",
    "    })\n",
    ")"
   ]
  },
  {
   "cell_type": "code",
   "execution_count": 5,
   "metadata": {},
   "outputs": [
    {
     "data": {
      "application/javascript": [
       "if (window.IpyVizzu) { window.IpyVizzu.clearInhibitScroll(element); }"
      ]
     },
     "metadata": {},
     "output_type": "display_data"
    },
    {
     "data": {
      "application/javascript": [
       "window.ipyvizzu.animate(element, '02399e7', 'actual', false, lib => { return {\"config\": {\"x\": [\"Vote count\", \"Answer\"], \"label\": \"Vote count\", \"title\": \"61% of the votes came from one group\"}} }, undefined);"
      ]
     },
     "metadata": {},
     "output_type": "display_data"
    }
   ],
   "source": [
    "chart.animate(\n",
    "    Config({\n",
    "        \"x\": [\"Vote count\",\"Answer\"], \n",
    "        \"label\": \"Vote count\", \n",
    "        \"title\": \"61% of the votes came from one group\"\n",
    "    }),\n",
    ")"
   ]
  },
  {
   "cell_type": "code",
   "execution_count": 9,
   "metadata": {},
   "outputs": [
    {
     "data": {
      "application/javascript": [
       "if (window.IpyVizzu) { window.IpyVizzu.clearInhibitScroll(element); }"
      ]
     },
     "metadata": {},
     "output_type": "display_data"
    },
    {
     "data": {
      "application/javascript": [
       "window.ipyvizzu.animate(element, '02399e7', 'actual', false, lib => { return {\"config\": {\"x\": \"Answer\", \"y\": [\"Group\", \"Vote count\"], \"split\": false, \"legend\": \"color\"}} }, undefined);"
      ]
     },
     "metadata": {},
     "output_type": "display_data"
    },
    {
     "data": {
      "application/javascript": [
       "window.ipyvizzu.animate(element, '02399e7', 'actual', false, lib => { return {\"config\": {\"y\": \"Vote count\", \"title\": \"More than 700 people voted\"}} }, undefined);"
      ]
     },
     "metadata": {},
     "output_type": "display_data"
    }
   ],
   "source": [
    "chart.animate(\n",
    "    Config({ \n",
    "        \"x\": \"Answer\", \n",
    "        \"y\": [\"Group\",\"Vote count\"], \n",
    "        \"split\": False, \n",
    "        \"legend\": \"color\"\n",
    "    })\n",
    ")\n",
    "\n",
    "chart.animate(\n",
    "    Config({ \n",
    "        \"y\": \"Vote count\", \n",
    "        \"title\": \"More than 700 people voted\"\n",
    "    })\n",
    ")"
   ]
  },
  {
   "cell_type": "code",
   "execution_count": 7,
   "metadata": {},
   "outputs": [
    {
     "data": {
      "application/javascript": [
       "if (window.IpyVizzu) { window.IpyVizzu.clearInhibitScroll(element); }"
      ]
     },
     "metadata": {},
     "output_type": "display_data"
    },
    {
     "data": {
      "application/javascript": [
       "window.ipyvizzu.animate(element, '02399e7', 'actual', false, lib => { return {\"config\": {\"x\": [\"Total[%]\", \"Answer\"], \"y\": null, \"label\": \"Total[%]\"}} }, undefined);"
      ]
     },
     "metadata": {},
     "output_type": "display_data"
    }
   ],
   "source": [
    "chart.animate(\n",
    "    Config({ \n",
    "        \"x\": [\"Total[%]\",\"Answer\"], \n",
    "        \"y\": None, \n",
    "        \"label\":\"Total[%]\"\n",
    "    })\n",
    ")"
   ]
  },
  {
   "cell_type": "code",
   "execution_count": 8,
   "metadata": {},
   "outputs": [
    {
     "data": {
      "application/javascript": [
       "if (window.IpyVizzu) { window.IpyVizzu.clearInhibitScroll(element); }"
      ]
     },
     "metadata": {},
     "output_type": "display_data"
    },
    {
     "data": {
      "application/javascript": [
       "window.ipyvizzu.animate(element, '02399e7', 'actual', false, lib => { return {\"config\": {\"coordSystem\": \"polar\", \"title\": \"More than two-third presents at least once per month\"}} }, undefined);"
      ]
     },
     "metadata": {},
     "output_type": "display_data"
    }
   ],
   "source": [
    "chart.animate(\n",
    "    Config({ \n",
    "        \"coordSystem\": \"polar\", \n",
    "        \"title\":\"More than two-third presents at least once per month\"\n",
    "    })\n",
    ")"
   ]
  },
  {
   "cell_type": "markdown",
   "metadata": {},
   "source": [
    "### Issues\n",
    "- Generic logic can be hard to comprehend\n",
    "- One directional use"
   ]
  }
 ],
 "metadata": {
  "kernelspec": {
   "display_name": "Python 3 (ipykernel)",
   "language": "python",
   "name": "python3"
  },
  "language_info": {
   "codemirror_mode": {
    "name": "ipython",
    "version": 3
   },
   "file_extension": ".py",
   "mimetype": "text/x-python",
   "name": "python",
   "nbconvert_exporter": "python",
   "pygments_lexer": "ipython3",
   "version": "3.9.12"
  },
  "title": "ipyvizzu - Story"
 },
 "nbformat": 4,
 "nbformat_minor": 2
}
